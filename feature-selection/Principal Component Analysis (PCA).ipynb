{
 "cells": [
  {
   "cell_type": "markdown",
   "metadata": {},
   "source": [
    "# Principal Component Analysis (PCA)"
   ]
  },
  {
   "cell_type": "markdown",
   "metadata": {},
   "source": [
    "### What is PCA?"
   ]
  },
  {
   "cell_type": "markdown",
   "metadata": {},
   "source": [
    "> ** It is a dimensionality reduction technique ** \n",
    "\n",
    "> It identifies a smaller number of uncorrelated variables, called \"principal components\", from a dataset consisiting of a lot of features. The goal of principal component analysis is to explain the maximum amount of variance with the fewest number of principal components or features."
   ]
  },
  {
   "cell_type": "markdown",
   "metadata": {},
   "source": [
    "### What is the abstract concept underlying PCA?"
   ]
  },
  {
   "cell_type": "markdown",
   "metadata": {},
   "source": [
    "It is an unsupervised linear transformation technique i.e. the feature reduction is independent of the class labels.\n",
    "\n",
    "It aims to find the directions of maximum variance in a high dimensional data based on the co-relation between different features. Once it determines the directions, then it projects the features into a different 'space' using transformation"
   ]
  },
  {
   "cell_type": "markdown",
   "metadata": {},
   "source": [
    "### Fancy some dirty details? Let's delve into the secret mathematical sauce for PCA"
   ]
  },
  {
   "cell_type": "markdown",
   "metadata": {},
   "source": [
    "_Note: Feel free to skip this section if you are only interested in the practical implementation of it. However, it's worth mentioning that understanding the maths helps you immensely in the long run_\n",
    "\n",
    "The story of PCA originates from the math of eigenvectors and eigenvalues. \n",
    "\n",
    "For a quick recap, an eigenvector or characteristic vector of a linear transformation is a non-zero vector that does not change its direction when that linear transformation is applied to it.\n",
    "[ [Wikipedia](\"https://en.wikipedia.org/wiki/Eigenvalues_and_eigenvectors\") ]\n",
    "\n",
    "$Av = \\lambda v$\n",
    "\n",
    "In this case, A is the linear transformation, which when applied to vector v results in the change of magnitude of vector v but not the direction. Here v is the eigenvector and $\\lambda$ is a scalar representing the eigenvalue\n",
    "\n",
    "Back to **How?**\n",
    "\n",
    "+ To understand how different features vary together, we use co-variance matrix\n",
    "\n",
    "  Co-variance between two features $x_{j}$ and $x_{k}$ is given by the following formula:\n",
    "  \n",
    "  $$\\sigma_{jk} = \\frac{1}{n}\\sum_{i=1}^{n}\\left( x_{ij}-{u}_j \\right) \\left( x_{ik}-{u}_k \\right).$$\n",
    "  \n",
    "  where $u_{j}$ and $u_{k}$ represents the mean of feature vectors $x_{j}$ and $x_{k}$\n",
    "  \n",
    "  In case of a dataset with 3 features, the co-variance between different features can be represented in the following way:\n",
    "    $$\n",
    "    \\sigma  =   \\begin{bmatrix}\n",
    "        \\sigma_{11} & \\sigma_{12} & \\sigma_{13}\\\\\n",
    "        \\sigma_{21} & \\sigma_{22} & \\sigma_{23}\\\\\n",
    "        \\sigma_{31} & \\sigma_{32} & \\sigma_{33}\\\\\n",
    "    \\end{bmatrix} \n",
    "    $$\n",
    "  \n",
    "  An example to explain what this matrix represents:\n",
    "  ![Co-variance](covariance.png) \n",
    "  \n",
    "  In order to understand the geometrical interpretation of the co-variance matrix, please refer to this [article](\"http://www.visiondummy.com/2014/04/geometric-interpretation-covariance-matrix/\")\n",
    "  \n",
    "  \n",
    "+ Now if we observe this co-variance matrix, then its symmetric is nature in nature, which implies\n",
    "    * The matrix will have only real eigenvalues and non-zero eigen vetors\n",
    "    * They will be orthogonal to each other\n",
    "\n",
    "\n",
    "+ Let the eigen values of this matrix (which also represents the Principal components of PCA) be $\\lambda_{1}$, $\\lambda_{2}$,....,$\\lambda_{m}$. Now the trace of a matrix, which represents the sum of diagonal elements, is also equal to the sum of the eigen values [[Reference](http://www.math.union.edu/~jaureguj/PCA.pdf)]\n",
    "\n",
    "    Back to our example of 3 dimensional co-variance matrix\n",
    "\n",
    "    $$\n",
    "    \\sigma  =   \\begin{bmatrix}\n",
    "        \\sigma_{11} & \\sigma_{12} & \\sigma_{13}\\\\\n",
    "        \\sigma_{21} & \\sigma_{22} & \\sigma_{23}\\\\\n",
    "        \\sigma_{31} & \\sigma_{32} & \\sigma_{33}\\\\\n",
    "    \\end{bmatrix} \n",
    "    $$\n",
    "    \n",
    "    Applying the trace concept here,\n",
    "    \n",
    "    $\\lambda_{1}+ \\lambda_{2} + \\lambda_{3} =  \\sigma_{11} + \\sigma_{22} + \\sigma_{33} $\n",
    "\n",
    "    Due to this, eigenvalues captures the total variance of features. This also points to another important conclusion,\n",
    "    \n",
    "    **PCA can't capture variance beyond those present in features. So we you can't magically increase you R<sup>2</sup> if your features are weak.**\n",
    "\n",
    "\n",
    "+ $\\lambda_{1}$ which represents the first principal component, explains the maximum variance, followed by $\\lambda_{2}$ and so on.\n",
    "\n",
    "\n",
    "+ A curious chap might have the following questions in mind:\n",
    "    * _Why the eigenvalues of a co-variance matrix represents the principal components ?_\n",
    "    * _Why the first components represents the maximum variance._\n",
    "    \n",
    "   I would recommend that curious chap to read this [lecture](http://www.stat.cmu.edu/~cshalizi/350/lectures/10/lecture-10.pdf)\n",
    "   \n",
    "<em> I guess this is enough math for now; let's try to understand PCA through an example</em>"
   ]
  },
  {
   "cell_type": "markdown",
   "metadata": {},
   "source": [
    "### Interpretation of PCA"
   ]
  },
  {
   "cell_type": "markdown",
   "metadata": {},
   "source": [
    "![PCA Interpretation](pca.png)\n",
    "[[Reference](http://www.math.union.edu/~jaureguj/PCA.pdf)]"
   ]
  },
  {
   "cell_type": "markdown",
   "metadata": {},
   "source": [
    "### Implementation using scikit - learn"
   ]
  },
  {
   "cell_type": "code",
   "execution_count": 24,
   "metadata": {
    "collapsed": true
   },
   "outputs": [],
   "source": [
    "import pandas as pd\n",
    "from sklearn.decomposition import PCA\n",
    "import numpy as np\n",
    "from sklearn.preprocessing import StandardScaler\n",
    "import matplotlib.pyplot as plt\n",
    "from matplotlib.colors import ListedColormap"
   ]
  },
  {
   "cell_type": "markdown",
   "metadata": {},
   "source": [
    "We are using the wine dataset to understand the implementation of PCA\n",
    "Link of dataset: https://archive.ics.uci.edu/ml/machine-learning-databases/wine/wine.data"
   ]
  },
  {
   "cell_type": "code",
   "execution_count": 6,
   "metadata": {
    "collapsed": false
   },
   "outputs": [
    {
     "data": {
      "text/html": [
       "<div>\n",
       "<table border=\"1\" class=\"dataframe\">\n",
       "  <thead>\n",
       "    <tr style=\"text-align: right;\">\n",
       "      <th></th>\n",
       "      <th>Class label</th>\n",
       "      <th>Alcohol</th>\n",
       "      <th>Malic acid</th>\n",
       "      <th>Ash</th>\n",
       "      <th>Alcalinity of ash</th>\n",
       "      <th>Magnesium</th>\n",
       "      <th>Total phenols</th>\n",
       "      <th>Flavanoids</th>\n",
       "      <th>Nonflavanoid phenols</th>\n",
       "      <th>Proanthocyanins</th>\n",
       "      <th>Color intensity</th>\n",
       "      <th>Hue</th>\n",
       "      <th>OD280/OD315 of diluted wines</th>\n",
       "      <th>Proline</th>\n",
       "    </tr>\n",
       "  </thead>\n",
       "  <tbody>\n",
       "    <tr>\n",
       "      <th>0</th>\n",
       "      <td>1</td>\n",
       "      <td>14.23</td>\n",
       "      <td>1.71</td>\n",
       "      <td>2.43</td>\n",
       "      <td>15.6</td>\n",
       "      <td>127</td>\n",
       "      <td>2.80</td>\n",
       "      <td>3.06</td>\n",
       "      <td>0.28</td>\n",
       "      <td>2.29</td>\n",
       "      <td>5.64</td>\n",
       "      <td>1.04</td>\n",
       "      <td>3.92</td>\n",
       "      <td>1065</td>\n",
       "    </tr>\n",
       "    <tr>\n",
       "      <th>1</th>\n",
       "      <td>1</td>\n",
       "      <td>13.20</td>\n",
       "      <td>1.78</td>\n",
       "      <td>2.14</td>\n",
       "      <td>11.2</td>\n",
       "      <td>100</td>\n",
       "      <td>2.65</td>\n",
       "      <td>2.76</td>\n",
       "      <td>0.26</td>\n",
       "      <td>1.28</td>\n",
       "      <td>4.38</td>\n",
       "      <td>1.05</td>\n",
       "      <td>3.40</td>\n",
       "      <td>1050</td>\n",
       "    </tr>\n",
       "    <tr>\n",
       "      <th>2</th>\n",
       "      <td>1</td>\n",
       "      <td>13.16</td>\n",
       "      <td>2.36</td>\n",
       "      <td>2.67</td>\n",
       "      <td>18.6</td>\n",
       "      <td>101</td>\n",
       "      <td>2.80</td>\n",
       "      <td>3.24</td>\n",
       "      <td>0.30</td>\n",
       "      <td>2.81</td>\n",
       "      <td>5.68</td>\n",
       "      <td>1.03</td>\n",
       "      <td>3.17</td>\n",
       "      <td>1185</td>\n",
       "    </tr>\n",
       "    <tr>\n",
       "      <th>3</th>\n",
       "      <td>1</td>\n",
       "      <td>14.37</td>\n",
       "      <td>1.95</td>\n",
       "      <td>2.50</td>\n",
       "      <td>16.8</td>\n",
       "      <td>113</td>\n",
       "      <td>3.85</td>\n",
       "      <td>3.49</td>\n",
       "      <td>0.24</td>\n",
       "      <td>2.18</td>\n",
       "      <td>7.80</td>\n",
       "      <td>0.86</td>\n",
       "      <td>3.45</td>\n",
       "      <td>1480</td>\n",
       "    </tr>\n",
       "    <tr>\n",
       "      <th>4</th>\n",
       "      <td>1</td>\n",
       "      <td>13.24</td>\n",
       "      <td>2.59</td>\n",
       "      <td>2.87</td>\n",
       "      <td>21.0</td>\n",
       "      <td>118</td>\n",
       "      <td>2.80</td>\n",
       "      <td>2.69</td>\n",
       "      <td>0.39</td>\n",
       "      <td>1.82</td>\n",
       "      <td>4.32</td>\n",
       "      <td>1.04</td>\n",
       "      <td>2.93</td>\n",
       "      <td>735</td>\n",
       "    </tr>\n",
       "  </tbody>\n",
       "</table>\n",
       "</div>"
      ],
      "text/plain": [
       "   Class label  Alcohol  Malic acid   Ash  Alcalinity of ash  Magnesium  \\\n",
       "0            1    14.23        1.71  2.43               15.6        127   \n",
       "1            1    13.20        1.78  2.14               11.2        100   \n",
       "2            1    13.16        2.36  2.67               18.6        101   \n",
       "3            1    14.37        1.95  2.50               16.8        113   \n",
       "4            1    13.24        2.59  2.87               21.0        118   \n",
       "\n",
       "   Total phenols  Flavanoids  Nonflavanoid phenols  Proanthocyanins  \\\n",
       "0           2.80        3.06                  0.28             2.29   \n",
       "1           2.65        2.76                  0.26             1.28   \n",
       "2           2.80        3.24                  0.30             2.81   \n",
       "3           3.85        3.49                  0.24             2.18   \n",
       "4           2.80        2.69                  0.39             1.82   \n",
       "\n",
       "   Color intensity   Hue  OD280/OD315 of diluted wines  Proline  \n",
       "0             5.64  1.04                          3.92     1065  \n",
       "1             4.38  1.05                          3.40     1050  \n",
       "2             5.68  1.03                          3.17     1185  \n",
       "3             7.80  0.86                          3.45     1480  \n",
       "4             4.32  1.04                          2.93      735  "
      ]
     },
     "execution_count": 6,
     "metadata": {},
     "output_type": "execute_result"
    }
   ],
   "source": [
    "df_wine = pd.read_csv('wine.data',header=None)\n",
    "\n",
    "df_wine.columns = ['Class label', 'Alcohol', 'Malic acid', 'Ash',\n",
    "                   'Alcalinity of ash', 'Magnesium', 'Total phenols',\n",
    "                   'Flavanoids', 'Nonflavanoid phenols', 'Proanthocyanins',\n",
    "                   'Color intensity', 'Hue',\n",
    "                   'OD280/OD315 of diluted wines', 'Proline']\n",
    "\n",
    "df_wine.head()"
   ]
  },
  {
   "cell_type": "markdown",
   "metadata": {},
   "source": [
    "** Now, PCA is sensitive to scaling, so we have to make sure that we scale the data before we apply PCA to it. **"
   ]
  },
  {
   "cell_type": "code",
   "execution_count": 11,
   "metadata": {
    "collapsed": false
   },
   "outputs": [],
   "source": [
    "sc = StandardScaler()\n",
    "X,y = df_wine.iloc[:,1:].values,df_wine.iloc[:,0].values\n",
    "X_scaled = sc.fit_transform(X)"
   ]
  },
  {
   "cell_type": "code",
   "execution_count": 8,
   "metadata": {
    "collapsed": true
   },
   "outputs": [],
   "source": [
    "pca = PCA(n_components=None)\n",
    "#n_components is used to specify the number of principal components that we are looking for.\n",
    "#We have specified it to None since we want to have all princiapl components"
   ]
  },
  {
   "cell_type": "code",
   "execution_count": 12,
   "metadata": {
    "collapsed": true
   },
   "outputs": [],
   "source": [
    "df_wine_pca = pca.fit_transform(X_scaled)"
   ]
  },
  {
   "cell_type": "code",
   "execution_count": 16,
   "metadata": {
    "collapsed": false
   },
   "outputs": [
    {
     "name": "stdout",
     "output_type": "stream",
     "text": [
      "[ 0.36198848  0.1920749   0.11123631  0.0706903   0.06563294  0.04935823\n",
      "  0.04238679  0.02680749  0.02222153  0.01930019  0.01736836  0.01298233\n",
      "  0.00795215]\n"
     ]
    }
   ],
   "source": [
    "var =pca.explained_variance_ratio_\n",
    "print var\n",
    "#These reflect the different variance captured by each of the eigenvalues. Since there are 13 features, \n",
    "# so the co-variance matrix will be 13 * 13, resulting in 13 eigenvalyes"
   ]
  },
  {
   "cell_type": "code",
   "execution_count": 19,
   "metadata": {
    "collapsed": false
   },
   "outputs": [
    {
     "data": {
      "text/plain": [
       "array([ 0.36198848,  0.55406338,  0.66529969,  0.73598999,  0.80162293,\n",
       "        0.85098116,  0.89336795,  0.92017544,  0.94239698,  0.96169717,\n",
       "        0.97906553,  0.99204785,  1.        ])"
      ]
     },
     "execution_count": 19,
     "metadata": {},
     "output_type": "execute_result"
    }
   ],
   "source": [
    "#Calculation cumulative variance captured by subsequent eigenvalues\n",
    "cumvar = np.cumsum(var)\n",
    "cumvar"
   ]
  },
  {
   "cell_type": "code",
   "execution_count": 21,
   "metadata": {
    "collapsed": false
   },
   "outputs": [
    {
     "data": {
      "image/png": "[encoded data removed]",
      "text/plain": [
       "<matplotlib.figure.Figure at 0xd56f550>"
      ]
     },
     "metadata": {},
     "output_type": "display_data"
    }
   ],
   "source": [
    "plt.bar(range(1,14),var,alpha=0.5,align='center',label='Variance due to each eigenvector')\n",
    "plt.step(range(1,14),cumvar,alpha=0.5,where='mid',label='Cumualtive variance')\n",
    "plt.ylabel('Explained variance due to eigenvector')\n",
    "plt.xlabel('Principal components')\n",
    "plt.legend(loc='best')\n",
    "plt.show()"
   ]
  },
  {
   "cell_type": "markdown",
   "metadata": {},
   "source": [
    "+ Each bar represents the variance captured by the pricipal component\n",
    "+ First Principal Component captures 0.4 or 40% of the total variance\n",
    "+ First two Principal Components captures 0.6 or 60% of the total variance present among features"
   ]
  },
  {
   "cell_type": "markdown",
   "metadata": {},
   "source": [
    "**This variance plot helps us to figure out how many principal components should be selected for our analysis**\n",
    "\n",
    "Since the first two PC captures 60% of the total variance, let's explore whether they can help us to identify a decision boundary"
   ]
  },
  {
   "cell_type": "code",
   "execution_count": 29,
   "metadata": {
    "collapsed": true
   },
   "outputs": [],
   "source": [
    "#This function plots the class labels on the plan contaning two Principal components as the X and Y axis\n",
    "def plotting(X,y):\n",
    "    markers = ('s','x','o','^','v')\n",
    "    colors = ('red','blue','lightgreen','gray','cyan')\n",
    "    cmap = ListedColormap(colors[:len(np.unique(y))])\n",
    "    \n",
    "    for idx,c1 in enumerate(np.unique(y)):\n",
    "        plt.scatter(x=X[y==c1,0],y=X[y==c1,1],alpha=0.8,c=cmap(idx),marker=markers[idx],label=c1)"
   ]
  },
  {
   "cell_type": "code",
   "execution_count": 30,
   "metadata": {
    "collapsed": true
   },
   "outputs": [],
   "source": [
    "pca = PCA(n_components=2)\n",
    "wine_pca = pca.fit_transform(X_scaled)"
   ]
  },
  {
   "cell_type": "code",
   "execution_count": 31,
   "metadata": {
    "collapsed": true
   },
   "outputs": [],
   "source": [
    "plotting(X_scaled,y)"
   ]
  },
  {
   "cell_type": "code",
   "execution_count": 32,
   "metadata": {
    "collapsed": false
   },
   "outputs": [
    {
     "data": {
      "image/png": "[encoded data removed]",
      "text/plain": [
       "<matplotlib.figure.Figure at 0xd878828>"
      ]
     },
     "metadata": {},
     "output_type": "display_data"
    }
   ],
   "source": [
    "plt.xlabel('Principal Component 1')\n",
    "plt.ylabel('Principal Component 2')\n",
    "plt.legend(loc='lower left')\n",
    "plt.show()"
   ]
  },
  {
   "cell_type": "markdown",
   "metadata": {},
   "source": [
    "**We can easily picture a decision boundary which helps us seperate these 3 classes, just using 2 features (Principal Components) from our dataset**"
   ]
  },
  {
   "cell_type": "markdown",
   "metadata": {},
   "source": [
    "### From-scratch Implementation"
   ]
  },
  {
   "cell_type": "markdown",
   "metadata": {},
   "source": [
    "In order to implement PCA without using a pre-built PCA module, we can follow these steps:\n",
    "+ Standardize the d-dimensional dataset using scikit-learn standardize function\n",
    "+ Construct the covariance matrix using $numpy.covar()$ function\n",
    "+ Decompose the covariance matrix into eigenvectors and eigenvalues using $numpy.linalg.eig()$\n",
    "+ Select the top k eigenvectors\n",
    "+ Construct a projection matrix $W$ using the top k eigenvectors\n",
    "+ Project our d-dimensional dataset on a new subspace using projection matrix $W$\n"
   ]
  },
  {
   "cell_type": "markdown",
   "metadata": {},
   "source": [
    "### References:"
   ]
  },
  {
   "cell_type": "markdown",
   "metadata": {},
   "source": [
    "+ Python Machine Learning by Sebastian Raschka\n",
    "+ Wikipedia [Principal Component Analysis](\"https://en.wikipedia.org/wiki/Principal_component_analysis\") \n",
    "+ [Minitab](\"http://support.minitab.com/en-us/minitab/17/topic-library/modeling-statistics/multivariate/principal-components-and-factor-analysis/what-is-pca/\")"
   ]
  },
  {
   "cell_type": "markdown",
   "metadata": {},
   "source": [
    "### Contact:"
   ]
  },
  {
   "cell_type": "markdown",
   "metadata": {},
   "source": [
    "_ If you have any suggestions or feedback, feel free to reach out to me on abhinav[dot]gpt3[at]gmail[com] _"
   ]
  },
  {
   "cell_type": "code",
   "execution_count": null,
   "metadata": {
    "collapsed": true
   },
   "outputs": [],
   "source": []
  }
 ],
 "metadata": {
  "anaconda-cloud": {},
  "kernelspec": {
   "display_name": "Python [default]",
   "language": "python",
   "name": "python3"
  },
  "language_info": {
   "codemirror_mode": {
    "name": "ipython",
    "version": 3
   },
   "file_extension": ".py",
   "mimetype": "text/x-python",
   "name": "python",
   "nbconvert_exporter": "python",
   "pygments_lexer": "ipython3",
   "version": "3.5.2"
  }
 },
 "nbformat": 4,
 "nbformat_minor": 1
}
